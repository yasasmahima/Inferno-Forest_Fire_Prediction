{
 "cells": [
  {
   "cell_type": "code",
   "execution_count": 57,
   "metadata": {},
   "outputs": [],
   "source": [
    "from sklearn.preprocessing import MinMaxScaler\n",
    "from sklearn.linear_model import LinearRegression\n",
    "from sklearn.ensemble import BaggingRegressor\n",
    "from sklearn.ensemble import RandomForestRegressor\n",
    "from sklearn.neighbors import KNeighborsRegressor\n",
    "from sklearn.model_selection import train_test_split \n",
    "from sklearn.svm import SVR\n",
    "from sklearn.metrics import explained_variance_score\n",
    "from sklearn.metrics import mean_absolute_error\n",
    "import seaborn as sns\n",
    "import numpy\n",
    "import pandas as pd\n",
    "import matplotlib.pyplot as plt "
   ]
  },
  {
   "cell_type": "code",
   "execution_count": 58,
   "metadata": {},
   "outputs": [],
   "source": [
    "seed = 7\n",
    "numpy.random.seed(seed)"
   ]
  },
  {
   "cell_type": "code",
   "execution_count": 59,
   "metadata": {},
   "outputs": [],
   "source": [
    "# Get Data From the data set\n",
    "dataframe = pd.read_csv(r'D:\\InfernoPrediction\\SpreadPrediction\\forestfires.csv')"
   ]
  },
  {
   "cell_type": "code",
   "execution_count": 60,
   "metadata": {},
   "outputs": [],
   "source": [
    "# Pre Processing\n",
    "\n",
    "# Replacing Month and date to numbers\n",
    "dataframe.month.replace(('jan','feb','mar','apr','may','jun','jul','aug','sep','oct','nov','dec'),(1,2,3,4,5,6,7,8,9,10,11,12), inplace=True)\n",
    "dataframe.day.replace(('mon','tue','wed','thu','fri','sat','sun'),(1,2,3,4,5,6,7), inplace=True)"
   ]
  },
  {
   "cell_type": "code",
   "execution_count": 61,
   "metadata": {},
   "outputs": [
    {
     "name": "stdout",
     "output_type": "stream",
     "text": [
      "                X           Y       month         day        FFMC         DMC  \\\n",
      "count  517.000000  517.000000  517.000000  517.000000  517.000000  517.000000   \n",
      "mean     4.669246    4.299807    7.475822    4.259188   90.644681  110.872340   \n",
      "std      2.313778    1.229900    2.275990    2.072929    5.520111   64.046482   \n",
      "min      1.000000    2.000000    1.000000    1.000000   18.700000    1.100000   \n",
      "25%      3.000000    4.000000    7.000000    2.000000   90.200000   68.600000   \n",
      "50%      4.000000    4.000000    8.000000    5.000000   91.600000  108.300000   \n",
      "75%      7.000000    5.000000    9.000000    6.000000   92.900000  142.400000   \n",
      "max      9.000000    9.000000   12.000000    7.000000   96.200000  291.300000   \n",
      "\n",
      "               DC         ISI        temp          RH        wind        rain  \\\n",
      "count  517.000000  517.000000  517.000000  517.000000  517.000000  517.000000   \n",
      "mean   547.940039    9.021663   18.889168   44.288201    4.017602    0.021663   \n",
      "std    248.066192    4.559477    5.806625   16.317469    1.791653    0.295959   \n",
      "min      7.900000    0.000000    2.200000   15.000000    0.400000    0.000000   \n",
      "25%    437.700000    6.500000   15.500000   33.000000    2.700000    0.000000   \n",
      "50%    664.200000    8.400000   19.300000   42.000000    4.000000    0.000000   \n",
      "75%    713.900000   10.800000   22.800000   53.000000    4.900000    0.000000   \n",
      "max    860.600000   56.100000   33.300000  100.000000    9.400000    6.400000   \n",
      "\n",
      "              area  \n",
      "count   517.000000  \n",
      "mean     12.847292  \n",
      "std      63.655818  \n",
      "min       0.000000  \n",
      "25%       0.000000  \n",
      "50%       0.520000  \n",
      "75%       6.570000  \n",
      "max    1090.840000  \n"
     ]
    }
   ],
   "source": [
    "# Describe dataset\n",
    "print(dataframe.describe())"
   ]
  },
  {
   "cell_type": "code",
   "execution_count": 62,
   "metadata": {},
   "outputs": [
    {
     "data": {
      "text/plain": [
       "array([[<matplotlib.axes._subplots.AxesSubplot object at 0x000001E4F82DD208>,\n",
       "        <matplotlib.axes._subplots.AxesSubplot object at 0x000001E4F831A518>,\n",
       "        <matplotlib.axes._subplots.AxesSubplot object at 0x000001E4F8348828>,\n",
       "        <matplotlib.axes._subplots.AxesSubplot object at 0x000001E4F8377DD8>],\n",
       "       [<matplotlib.axes._subplots.AxesSubplot object at 0x000001E4F83AE3C8>,\n",
       "        <matplotlib.axes._subplots.AxesSubplot object at 0x000001E4F82E2710>,\n",
       "        <matplotlib.axes._subplots.AxesSubplot object at 0x000001E4F840DDD8>,\n",
       "        <matplotlib.axes._subplots.AxesSubplot object at 0x000001E4F8445400>],\n",
       "       [<matplotlib.axes._subplots.AxesSubplot object at 0x000001E4F8445438>,\n",
       "        <matplotlib.axes._subplots.AxesSubplot object at 0x000001E4F84A4EF0>,\n",
       "        <matplotlib.axes._subplots.AxesSubplot object at 0x000001E4F84DD4E0>,\n",
       "        <matplotlib.axes._subplots.AxesSubplot object at 0x000001E4F850FA90>],\n",
       "       [<matplotlib.axes._subplots.AxesSubplot object at 0x000001E4F854E080>,\n",
       "        <matplotlib.axes._subplots.AxesSubplot object at 0x000001E4F857E630>,\n",
       "        <matplotlib.axes._subplots.AxesSubplot object at 0x000001E4F85AEBE0>,\n",
       "        <matplotlib.axes._subplots.AxesSubplot object at 0x000001E4F85EE1D0>]],\n",
       "      dtype=object)"
      ]
     },
     "execution_count": 62,
     "metadata": {},
     "output_type": "execute_result"
    },
    {
     "data": {
      "image/png": "[encoded data removed]",
      "text/plain": [
       "<Figure size 432x288 with 16 Axes>"
      ]
     },
     "metadata": {
      "needs_background": "light"
     },
     "output_type": "display_data"
    }
   ],
   "source": [
    "# Generating Graphs for Each Attribute\n",
    "dataframe.hist()"
   ]
  },
  {
   "cell_type": "code",
   "execution_count": 63,
   "metadata": {},
   "outputs": [
    {
     "data": {
      "text/plain": [
       "array([[<matplotlib.axes._subplots.AxesSubplot object at 0x000001E4F8792898>,\n",
       "        <matplotlib.axes._subplots.AxesSubplot object at 0x000001E4F7147828>,\n",
       "        <matplotlib.axes._subplots.AxesSubplot object at 0x000001E4F6A7B9E8>,\n",
       "        <matplotlib.axes._subplots.AxesSubplot object at 0x000001E4F6FF5BE0>],\n",
       "       [<matplotlib.axes._subplots.AxesSubplot object at 0x000001E4F5469A20>,\n",
       "        <matplotlib.axes._subplots.AxesSubplot object at 0x000001E4F6F5F780>,\n",
       "        <matplotlib.axes._subplots.AxesSubplot object at 0x000001E4F546FA90>,\n",
       "        <matplotlib.axes._subplots.AxesSubplot object at 0x000001E4F6F82FD0>],\n",
       "       [<matplotlib.axes._subplots.AxesSubplot object at 0x000001E4F8884080>,\n",
       "        <matplotlib.axes._subplots.AxesSubplot object at 0x000001E4F54ACB70>,\n",
       "        <matplotlib.axes._subplots.AxesSubplot object at 0x000001E4F88B9160>,\n",
       "        <matplotlib.axes._subplots.AxesSubplot object at 0x000001E4F88E7710>],\n",
       "       [<matplotlib.axes._subplots.AxesSubplot object at 0x000001E4F891ACC0>,\n",
       "        <matplotlib.axes._subplots.AxesSubplot object at 0x000001E4F89572B0>,\n",
       "        <matplotlib.axes._subplots.AxesSubplot object at 0x000001E4F8988860>,\n",
       "        <matplotlib.axes._subplots.AxesSubplot object at 0x000001E4F89BAE10>]],\n",
       "      dtype=object)"
      ]
     },
     "execution_count": 63,
     "metadata": {},
     "output_type": "execute_result"
    },
    {
     "data": {
      "image/png": "[encoded data removed]",
      "text/plain": [
       "<Figure size 432x288 with 16 Axes>"
      ]
     },
     "metadata": {
      "needs_background": "light"
     },
     "output_type": "display_data"
    }
   ],
   "source": [
    "dataframe.plot(kind='density', subplots=True, layout=(4,4), sharex=False, sharey=False)"
   ]
  },
  {
   "cell_type": "code",
   "execution_count": 64,
   "metadata": {},
   "outputs": [],
   "source": [
    "# Put attributes that couses for the forest fires area to X and put number of areas burnt to y axis\n",
    "dataset = dataframe.values\n",
    "X = dataframe[['temp','RH','wind','FFMC','DMC','DC']]\n",
    "Y = dataframe['area']"
   ]
  },
  {
   "cell_type": "code",
   "execution_count": 65,
   "metadata": {},
   "outputs": [
    {
     "data": {
      "text/html": [
       "<div>\n",
       "<style scoped>\n",
       "    .dataframe tbody tr th:only-of-type {\n",
       "        vertical-align: middle;\n",
       "    }\n",
       "\n",
       "    .dataframe tbody tr th {\n",
       "        vertical-align: top;\n",
       "    }\n",
       "\n",
       "    .dataframe thead th {\n",
       "        text-align: right;\n",
       "    }\n",
       "</style>\n",
       "<table border=\"1\" class=\"dataframe\">\n",
       "  <thead>\n",
       "    <tr style=\"text-align: right;\">\n",
       "      <th></th>\n",
       "      <th>temp</th>\n",
       "      <th>RH</th>\n",
       "      <th>wind</th>\n",
       "      <th>FFMC</th>\n",
       "      <th>DMC</th>\n",
       "      <th>DC</th>\n",
       "    </tr>\n",
       "  </thead>\n",
       "  <tbody>\n",
       "    <tr>\n",
       "      <th>temp</th>\n",
       "      <td>1.000000</td>\n",
       "      <td>-0.527390</td>\n",
       "      <td>-0.227116</td>\n",
       "      <td>0.431532</td>\n",
       "      <td>0.469594</td>\n",
       "      <td>0.496208</td>\n",
       "    </tr>\n",
       "    <tr>\n",
       "      <th>RH</th>\n",
       "      <td>-0.527390</td>\n",
       "      <td>1.000000</td>\n",
       "      <td>0.069410</td>\n",
       "      <td>-0.300995</td>\n",
       "      <td>0.073795</td>\n",
       "      <td>-0.039192</td>\n",
       "    </tr>\n",
       "    <tr>\n",
       "      <th>wind</th>\n",
       "      <td>-0.227116</td>\n",
       "      <td>0.069410</td>\n",
       "      <td>1.000000</td>\n",
       "      <td>-0.028485</td>\n",
       "      <td>-0.105342</td>\n",
       "      <td>-0.203466</td>\n",
       "    </tr>\n",
       "    <tr>\n",
       "      <th>FFMC</th>\n",
       "      <td>0.431532</td>\n",
       "      <td>-0.300995</td>\n",
       "      <td>-0.028485</td>\n",
       "      <td>1.000000</td>\n",
       "      <td>0.382619</td>\n",
       "      <td>0.330512</td>\n",
       "    </tr>\n",
       "    <tr>\n",
       "      <th>DMC</th>\n",
       "      <td>0.469594</td>\n",
       "      <td>0.073795</td>\n",
       "      <td>-0.105342</td>\n",
       "      <td>0.382619</td>\n",
       "      <td>1.000000</td>\n",
       "      <td>0.682192</td>\n",
       "    </tr>\n",
       "    <tr>\n",
       "      <th>DC</th>\n",
       "      <td>0.496208</td>\n",
       "      <td>-0.039192</td>\n",
       "      <td>-0.203466</td>\n",
       "      <td>0.330512</td>\n",
       "      <td>0.682192</td>\n",
       "      <td>1.000000</td>\n",
       "    </tr>\n",
       "  </tbody>\n",
       "</table>\n",
       "</div>"
      ],
      "text/plain": [
       "          temp        RH      wind      FFMC       DMC        DC\n",
       "temp  1.000000 -0.527390 -0.227116  0.431532  0.469594  0.496208\n",
       "RH   -0.527390  1.000000  0.069410 -0.300995  0.073795 -0.039192\n",
       "wind -0.227116  0.069410  1.000000 -0.028485 -0.105342 -0.203466\n",
       "FFMC  0.431532 -0.300995 -0.028485  1.000000  0.382619  0.330512\n",
       "DMC   0.469594  0.073795 -0.105342  0.382619  1.000000  0.682192\n",
       "DC    0.496208 -0.039192 -0.203466  0.330512  0.682192  1.000000"
      ]
     },
     "execution_count": 65,
     "metadata": {},
     "output_type": "execute_result"
    }
   ],
   "source": [
    "# GEt Correlatois\n",
    "x_correlations = X.corr()\n",
    "x_correlations"
   ]
  },
  {
   "cell_type": "code",
   "execution_count": 66,
   "metadata": {},
   "outputs": [
    {
     "data": {
      "text/plain": [
       "<matplotlib.axes._subplots.AxesSubplot at 0x1e4f8b380b8>"
      ]
     },
     "execution_count": 66,
     "metadata": {},
     "output_type": "execute_result"
    },
    {
     "data": {
      "image/png": "[encoded data removed]",
      "text/plain": [
       "<Figure size 432x288 with 1 Axes>"
      ]
     },
     "metadata": {
      "needs_background": "light"
     },
     "output_type": "display_data"
    }
   ],
   "source": [
    "(x_correlations\n",
    "      .temp\n",
    "      .sort_values(ascending=False)\n",
    "      .plot\n",
    "      .barh())\n",
    "# Temperature is the most correalted one to the burnt area"
   ]
  },
  {
   "cell_type": "code",
   "execution_count": 67,
   "metadata": {},
   "outputs": [
    {
     "data": {
      "image/png": "[encoded data removed]",
      "text/plain": [
       "<Figure size 432x288 with 2 Axes>"
      ]
     },
     "metadata": {
      "needs_background": "light"
     },
     "output_type": "display_data"
    }
   ],
   "source": [
    "x_heat = sns.heatmap(x_correlations)"
   ]
  },
  {
   "cell_type": "code",
   "execution_count": 68,
   "metadata": {},
   "outputs": [],
   "source": [
    "# Since FFMC,DMC and DC are also calculated by the Temp,Wind Speed and RH remove them\n",
    "dataset = dataframe.values\n",
    "X = dataframe[['temp','RH','wind']]\n",
    "Y = dataframe['area']"
   ]
  },
  {
   "cell_type": "code",
   "execution_count": 69,
   "metadata": {},
   "outputs": [],
   "source": [
    "# Watch co realtions again\n",
    "x_correlations = X.corr()"
   ]
  },
  {
   "cell_type": "code",
   "execution_count": 70,
   "metadata": {},
   "outputs": [
    {
     "data": {
      "text/html": [
       "<div>\n",
       "<style scoped>\n",
       "    .dataframe tbody tr th:only-of-type {\n",
       "        vertical-align: middle;\n",
       "    }\n",
       "\n",
       "    .dataframe tbody tr th {\n",
       "        vertical-align: top;\n",
       "    }\n",
       "\n",
       "    .dataframe thead th {\n",
       "        text-align: right;\n",
       "    }\n",
       "</style>\n",
       "<table border=\"1\" class=\"dataframe\">\n",
       "  <thead>\n",
       "    <tr style=\"text-align: right;\">\n",
       "      <th></th>\n",
       "      <th>temp</th>\n",
       "      <th>RH</th>\n",
       "      <th>wind</th>\n",
       "    </tr>\n",
       "  </thead>\n",
       "  <tbody>\n",
       "    <tr>\n",
       "      <th>temp</th>\n",
       "      <td>1.000000</td>\n",
       "      <td>-0.52739</td>\n",
       "      <td>-0.227116</td>\n",
       "    </tr>\n",
       "    <tr>\n",
       "      <th>RH</th>\n",
       "      <td>-0.527390</td>\n",
       "      <td>1.00000</td>\n",
       "      <td>0.069410</td>\n",
       "    </tr>\n",
       "    <tr>\n",
       "      <th>wind</th>\n",
       "      <td>-0.227116</td>\n",
       "      <td>0.06941</td>\n",
       "      <td>1.000000</td>\n",
       "    </tr>\n",
       "  </tbody>\n",
       "</table>\n",
       "</div>"
      ],
      "text/plain": [
       "          temp       RH      wind\n",
       "temp  1.000000 -0.52739 -0.227116\n",
       "RH   -0.527390  1.00000  0.069410\n",
       "wind -0.227116  0.06941  1.000000"
      ]
     },
     "execution_count": 70,
     "metadata": {},
     "output_type": "execute_result"
    }
   ],
   "source": [
    "x_correlations"
   ]
  },
  {
   "cell_type": "code",
   "execution_count": 71,
   "metadata": {},
   "outputs": [
    {
     "data": {
      "text/plain": [
       "<matplotlib.axes._subplots.AxesSubplot at 0x1e4f8c34b70>"
      ]
     },
     "execution_count": 71,
     "metadata": {},
     "output_type": "execute_result"
    },
    {
     "data": {
      "image/png": "[encoded data removed]",
      "text/plain": [
       "<Figure size 432x288 with 1 Axes>"
      ]
     },
     "metadata": {
      "needs_background": "light"
     },
     "output_type": "display_data"
    }
   ],
   "source": [
    "(x_correlations\n",
    "      .temp\n",
    "      .sort_values(ascending=False)\n",
    "      .plot\n",
    "      .barh())"
   ]
  },
  {
   "cell_type": "code",
   "execution_count": 72,
   "metadata": {},
   "outputs": [
    {
     "data": {
      "image/png": "[encoded data removed]",
      "text/plain": [
       "<Figure size 432x288 with 2 Axes>"
      ]
     },
     "metadata": {
      "needs_background": "light"
     },
     "output_type": "display_data"
    }
   ],
   "source": [
    "x_heat = sns.heatmap(x_correlations)"
   ]
  },
  {
   "cell_type": "code",
   "execution_count": 73,
   "metadata": {},
   "outputs": [],
   "source": [
    "# Split 0.3 from the daa set to test\n",
    "X_train, X_test, Y_train, Y_test = train_test_split(X, Y, test_size=0.3, random_state=0)"
   ]
  },
  {
   "cell_type": "code",
   "execution_count": 74,
   "metadata": {},
   "outputs": [
    {
     "name": "stdout",
     "output_type": "stream",
     "text": [
      "LinearRegression: 0.011509 (19.171769)\n",
      "BaggingRegressor: 0.811023 (8.596886)\n",
      "RandomForest: 0.843971 (7.903287)\n",
      "KNeighbours: 0.268687 (15.501118)\n"
     ]
    }
   ],
   "source": [
    "algorithms = []\n",
    "algorithms.append(('LinearRegression', LinearRegression()))\n",
    "algorithms.append(('BaggingRegressor', BaggingRegressor()))\n",
    "algorithms.append(('RandomForest', RandomForestRegressor()))\n",
    "algorithms.append(('KNeighbours', KNeighborsRegressor()))\n",
    "\n",
    "\n",
    "# Evaluations\n",
    "results = []\n",
    "names = []\n",
    "\n",
    "\n",
    "for name,model in algorithms:\n",
    "    \n",
    "#     Fit data to the model\n",
    "    model.fit(X,Y)\n",
    "    \n",
    "#     PRedict data\n",
    "    predictions = model.predict(X)\n",
    "    \n",
    "#     GEt Varice\n",
    "    variance = explained_variance_score(Y, predictions)\n",
    "#     Get mean absolute error\n",
    "    meanError = mean_absolute_error(predictions, Y)\n",
    "    results.append(meanError)\n",
    "    names.append(name) \n",
    "#     Display result\n",
    "    result = \"%s: %f (%f)\" % (name,variance, meanError)\n",
    "    print(result)\n",
    "    "
   ]
  },
  {
   "cell_type": "code",
   "execution_count": 75,
   "metadata": {},
   "outputs": [],
   "source": [
    "# Since BaggingRegressor has highest accuracy we take it for the predictions\n",
    "\n",
    "# GEt data from the Predicted data sets\n",
    "def fahToCel(value):\n",
    "     return ((float(value)-32) * 5/9)\n",
    "    \n",
    "def mphToKmph(value):\n",
    "    return value*1.60934\n",
    "\n",
    "f1 = open(\"windSpeed.txt\", \"r\")\n",
    "line1=f1.readlines()\n",
    "f2 = open(\"temperatures.txt\", \"r\")\n",
    "line2=f2.readlines()\n",
    "f3 = open(\"Relativehumidity.txt\", \"r\")\n",
    "line3=f3.readlines()\n",
    "\n",
    "# Write Data in to a File\n",
    "f = open(\"spreads.txt\", \"a\")\n",
    "\n",
    "regressor = RandomForestRegressor()\n",
    "regressor.fit(X,Y)\n",
    "predictions = regressor.predict(X)\n",
    "\n",
    "for i in range(180):\n",
    "    \n",
    "    temp=float(line2[i])\n",
    "    speed=float(line1[i])\n",
    "    \n",
    "    #     Convert Temperature to Cel\n",
    "    temp=fahToCel(temp)\n",
    "    #     Convert Speed to KMPH\n",
    "    speed=mphToKmph(speed)\n",
    "    \n",
    "    rh=float(line3[i])\n",
    "    \n",
    "# Input Values to the model\n",
    "    new_input=[[temp,rh,speed]]\n",
    "#     Get Outputs\n",
    "    output=regressor.predict(new_input)\n",
    "    \n",
    "#     Write each output in to a file\n",
    "    f.write(str(output[0]))\n",
    "    f.write(\"\\n\")\n",
    "    \n",
    "f.close()\n",
    "    \n",
    "    \n",
    "    \n",
    "    \n",
    "    "
   ]
  },
  {
   "cell_type": "code",
   "execution_count": null,
   "metadata": {},
   "outputs": [],
   "source": []
  },
  {
   "cell_type": "code",
   "execution_count": null,
   "metadata": {},
   "outputs": [],
   "source": []
  },
  {
   "cell_type": "code",
   "execution_count": null,
   "metadata": {},
   "outputs": [],
   "source": []
  }
 ],
 "metadata": {
  "kernelspec": {
   "display_name": "Python 3",
   "language": "python",
   "name": "python3"
  },
  "language_info": {
   "codemirror_mode": {
    "name": "ipython",
    "version": 3
   },
   "file_extension": ".py",
   "mimetype": "text/x-python",
   "name": "python",
   "nbconvert_exporter": "python",
   "pygments_lexer": "ipython3",
   "version": "3.6.10"
  }
 },
 "nbformat": 4,
 "nbformat_minor": 4
}
